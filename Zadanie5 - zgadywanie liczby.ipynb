{
 "cells": [
  {
   "cell_type": "code",
   "execution_count": null,
   "metadata": {},
   "outputs": [],
   "source": [
    "# podanie liczny ktora najpierw losuje komputer, zgadniecie liczby, komputer ma podpowiadac czy liczba wieksz czy wieksza i za krorym razem\n",
    "\n",
    "from random import randint\n",
    "\n",
    "los = randint(1,10)\n",
    "odp = -1\n",
    "i = 0\n",
    "print(\"Zgadnij liczbe z przedzialu 1-10\")\n",
    "\n",
    "while los != odp:\n",
    "    i += 1\n",
    "    odp = int(input(\"Podaj liczbe\"))\n",
    "    if odp > los:\n",
    "        print(\"liczba mniejsza od twojej\")\n",
    "    elif odp < los:\n",
    "        print(\"liczba jest wieksza od twojej\")\n",
    "print(\"udalo ci sie za \", i, \"razem\")"
   ]
  }
 ],
 "metadata": {
  "kernelspec": {
   "display_name": "Python 3.10.8 ('srodowisko_Python')",
   "language": "python",
   "name": "python3"
  },
  "language_info": {
   "name": "python",
   "version": "3.10.8"
  },
  "orig_nbformat": 4,
  "vscode": {
   "interpreter": {
    "hash": "942a664b54e2559c71888f992fa071b09a8d1d64eb5a0701cf262304bd7f014e"
   }
  }
 },
 "nbformat": 4,
 "nbformat_minor": 2
}
