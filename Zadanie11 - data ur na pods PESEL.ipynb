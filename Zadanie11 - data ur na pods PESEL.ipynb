{
 "cells": [
  {
   "cell_type": "code",
   "execution_count": null,
   "metadata": {},
   "outputs": [],
   "source": [
    "#napisz date urodzenia na podstawie peselu\n",
    "\n",
    "\n",
    "#pesel = '90012616056'\n",
    "#pesel2 = '19311216056'\n",
    "#26 - 01 - 1990 \n",
    "#12-11-2019\n",
    "\n",
    "pesel = input('Podaj swoj numer pesel: ')\n",
    "\n",
    "if len(pesel) != 11:\n",
    "    print('za krotki pesel')\n",
    "else:\n",
    "    day = pesel[4:6]\n",
    "    month = pesel[2:4]\n",
    "    if int(month) > 20:\n",
    "        month = int(month) - 20\n",
    "        year = f'20{pesel[:2]}'\n",
    "    else:\n",
    "        year = f'19{pesel[:2]}'\n",
    "\n",
    "    print(f'{day}-{month}-{year}')\n"
   ]
  }
 ],
 "metadata": {
  "kernelspec": {
   "display_name": "Python 3.10.8 ('srodowisko_Python')",
   "language": "python",
   "name": "python3"
  },
  "language_info": {
   "name": "python",
   "version": "3.10.8"
  },
  "orig_nbformat": 4,
  "vscode": {
   "interpreter": {
    "hash": "942a664b54e2559c71888f992fa071b09a8d1d64eb5a0701cf262304bd7f014e"
   }
  }
 },
 "nbformat": 4,
 "nbformat_minor": 2
}
