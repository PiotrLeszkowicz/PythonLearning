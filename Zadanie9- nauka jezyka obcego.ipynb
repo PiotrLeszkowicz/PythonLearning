{
 "cells": [
  {
   "cell_type": "code",
   "execution_count": null,
   "metadata": {},
   "outputs": [],
   "source": [
    "#slownik 10 wyrazow jako klucze i 10 napisanych po ang jako wartosci\n",
    "# zapytaj o 5 losowych wyrazow a nastenie policz jaki procent odpowiedzibyl prawuidlowy\n",
    "\n",
    "from random import shuffle\n",
    "\n",
    "dictionary = {\n",
    "    'samochód': 'car',\n",
    "    'lalka': 'doll',\n",
    "    'dom': 'house',\n",
    "    'krzesło': 'chair',\n",
    "    'woda': 'water',\n",
    "    'ogień': 'fire',\n",
    "    'klawiatura': 'keyboard',\n",
    "    'tygrys':'tiger',\n",
    "    'pies': 'dog',\n",
    "    'kot': 'cat'\n",
    "}\n",
    "\n",
    "polish_words = list(dictionary.keys())\n",
    "shuffle(polish_words)\n",
    "\n",
    "poprawna_odpowiedz = 0\n",
    "for polish_words in polish_words[:5]:\n",
    "    odpowiedz = input(f'jak po angielsku bedzie {polish_words}?')\n",
    "    if odpowiedz == dictionary[polish_words]:\n",
    "        poprawna_odpowiedz +=1\n",
    "\n",
    "print(f'odpowiedziales porawnie na {poprawna_odpowiedz} odpowiedzi. uzyskales {(poprawna_odpowiedz/5)*100}%')"
   ]
  }
 ],
 "metadata": {
  "kernelspec": {
   "display_name": "Python 3.10.8 ('srodowisko_Python')",
   "language": "python",
   "name": "python3"
  },
  "language_info": {
   "name": "python",
   "version": "3.10.8"
  },
  "orig_nbformat": 4,
  "vscode": {
   "interpreter": {
    "hash": "942a664b54e2559c71888f992fa071b09a8d1d64eb5a0701cf262304bd7f014e"
   }
  }
 },
 "nbformat": 4,
 "nbformat_minor": 2
}
