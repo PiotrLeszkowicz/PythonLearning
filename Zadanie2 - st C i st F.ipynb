{
 "cells": [
  {
   "cell_type": "code",
   "execution_count": 2,
   "metadata": {},
   "outputs": [
    {
     "name": "stdout",
     "output_type": "stream",
     "text": [
      "zamiana C ->F\n",
      "45.0 C = 78.8 F\n",
      "koniec programu\n"
     ]
    }
   ],
   "source": [
    "#program ktory zapyta uzytkownika \"aby zamieniec stopnie C na F napisz 1, aby dokonac przeciwnej zamiany napisz 2\", nastepnie zapyta o wartosc dla zmiany i wodpowidzi wyswieli prawodlowy wynik\n",
    "\n",
    "a = int(input('aby zamieniec stopnie C na F napisz 1, aby dokonac przeciwnej zamiany napisz 2'))\n",
    "\n",
    "if a == 1:\n",
    "    print('zamiana C ->F')\n",
    "    c = float(input('podaj wartosc C zamiany  na F'))\n",
    "    print(f'{c} C = {(c + 9/5)+32} F')\n",
    "elif a == 2:\n",
    "    print('zamiana F ->C')\n",
    "    f = float(input('podaj wartosc F do zamiany na C'))\n",
    "    print(f'{f} F = {(f - 32)*5/9} C')\n",
    "else:\n",
    "    print('podaj wartosc 1 lub 2')\n",
    "    \n",
    "print('koniec programu')\n",
    "\n",
    "\n"
   ]
  }
 ],
 "metadata": {
  "kernelspec": {
   "display_name": "Python 3.10.8 ('srodowisko_Python')",
   "language": "python",
   "name": "python3"
  },
  "language_info": {
   "codemirror_mode": {
    "name": "ipython",
    "version": 3
   },
   "file_extension": ".py",
   "mimetype": "text/x-python",
   "name": "python",
   "nbconvert_exporter": "python",
   "pygments_lexer": "ipython3",
   "version": "3.10.8"
  },
  "orig_nbformat": 4,
  "vscode": {
   "interpreter": {
    "hash": "942a664b54e2559c71888f992fa071b09a8d1d64eb5a0701cf262304bd7f014e"
   }
  }
 },
 "nbformat": 4,
 "nbformat_minor": 2
}
