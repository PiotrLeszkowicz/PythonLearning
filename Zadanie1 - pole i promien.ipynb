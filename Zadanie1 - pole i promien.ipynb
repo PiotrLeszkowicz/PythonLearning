{
 "cells": [
  {
   "cell_type": "code",
   "execution_count": 1,
   "metadata": {},
   "outputs": [
    {
     "name": "stdout",
     "output_type": "stream",
     "text": [
      "srednica = 2.23606797749979\n",
      "promien = 1.118033988749895\n",
      "pole okregu wynosi 3.9269908169872423\n"
     ]
    }
   ],
   "source": [
    "# podaj wspolrzedne dwoch punktow, a nastepnie oblicz z nich promien oraz pole okregu jakie utworza\n",
    "\n",
    "x1 = float(input('podaj wspolrzedna x1: '))\n",
    "x2 = float(input('podaj wspolrzedna x2: '))\n",
    "y1 = float(input('podaj wspolrzedna y1: '))\n",
    "y2 = float(input('podaj wspolrzedna y2: '))\n",
    "\n",
    "from math import sqrt\n",
    "d = sqrt((x2-x1)**2+(y2-y1)**2)\n",
    "r = d/2\n",
    "from math import pi\n",
    "print(f'srednica = {d}')\n",
    "print(f'promien = {r}')\n",
    "\n",
    "\n",
    "print(f'pole okregu wynosi {pi*(r**2)}')"
   ]
  }
 ],
 "metadata": {
  "kernelspec": {
   "display_name": "Python 3.10.8 ('srodowisko_Python')",
   "language": "python",
   "name": "python3"
  },
  "language_info": {
   "codemirror_mode": {
    "name": "ipython",
    "version": 3
   },
   "file_extension": ".py",
   "mimetype": "text/x-python",
   "name": "python",
   "nbconvert_exporter": "python",
   "pygments_lexer": "ipython3",
   "version": "3.10.9 (tags/v3.10.9:1dd9be6, Dec  6 2022, 20:01:21) [MSC v.1934 64 bit (AMD64)]"
  },
  "orig_nbformat": 4,
  "vscode": {
   "interpreter": {
    "hash": "942a664b54e2559c71888f992fa071b09a8d1d64eb5a0701cf262304bd7f014e"
   }
  }
 },
 "nbformat": 4,
 "nbformat_minor": 2
}
