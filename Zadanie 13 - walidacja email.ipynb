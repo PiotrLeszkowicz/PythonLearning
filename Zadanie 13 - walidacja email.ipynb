{
 "cells": [
  {
   "cell_type": "code",
   "execution_count": 18,
   "metadata": {},
   "outputs": [
    {
     "name": "stdout",
     "output_type": "stream",
     "text": [
      "da@12Wwp.p2l is Invalid.\n"
     ]
    }
   ],
   "source": [
    "# userid@domainname.ext\n",
    "\n",
    "import re\n",
    "\n",
    "pattern = '^[A-Za-z0-9._%+-]+@[A-Za-z0-9._%+-]+\\.[a-zA-Z]{2,}$'\n",
    "email_id = input('Enter your email ID:')\n",
    "email = re.search(pattern, email_id)\n",
    "\n",
    "if email:\n",
    "    print(f'{email_id} is valid')\n",
    "else:\n",
    "    print(f'{email_id} is Invalid.')"
   ]
  }
 ],
 "metadata": {
  "kernelspec": {
   "display_name": "Python 3.10.8 ('srodowisko_Python')",
   "language": "python",
   "name": "python3"
  },
  "language_info": {
   "codemirror_mode": {
    "name": "ipython",
    "version": 3
   },
   "file_extension": ".py",
   "mimetype": "text/x-python",
   "name": "python",
   "nbconvert_exporter": "python",
   "pygments_lexer": "ipython3",
   "version": "3.10.8"
  },
  "orig_nbformat": 4,
  "vscode": {
   "interpreter": {
    "hash": "942a664b54e2559c71888f992fa071b09a8d1d64eb5a0701cf262304bd7f014e"
   }
  }
 },
 "nbformat": 4,
 "nbformat_minor": 2
}
