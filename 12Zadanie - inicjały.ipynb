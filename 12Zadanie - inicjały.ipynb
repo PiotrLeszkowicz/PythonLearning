{
 "cells": [
  {
   "cell_type": "code",
   "execution_count": 12,
   "metadata": {},
   "outputs": [
    {
     "name": "stdout",
     "output_type": "stream",
     "text": [
      "A.D.\n"
     ]
    }
   ],
   "source": [
    "#odbierz od uzykownika imie i nazwisko. wyswietl tylko inicjaly duzymi literami\n",
    "\n",
    "\n",
    "name = input('Podaj swoje imię: ')\n",
    "last_name = input('Podaj swoje nazwisko: ')\n",
    "\n",
    "print(f'{name[0].upper()}.{last_name[0].upper()}.')\n",
    "\n"
   ]
  }
 ],
 "metadata": {
  "kernelspec": {
   "display_name": "Python 3.10.8 ('srodowisko_Python')",
   "language": "python",
   "name": "python3"
  },
  "language_info": {
   "codemirror_mode": {
    "name": "ipython",
    "version": 3
   },
   "file_extension": ".py",
   "mimetype": "text/x-python",
   "name": "python",
   "nbconvert_exporter": "python",
   "pygments_lexer": "ipython3",
   "version": "3.10.8"
  },
  "orig_nbformat": 4,
  "vscode": {
   "interpreter": {
    "hash": "942a664b54e2559c71888f992fa071b09a8d1d64eb5a0701cf262304bd7f014e"
   }
  }
 },
 "nbformat": 4,
 "nbformat_minor": 2
}
