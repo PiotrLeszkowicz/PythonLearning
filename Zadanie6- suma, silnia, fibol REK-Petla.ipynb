{
 "cells": [
  {
   "cell_type": "code",
   "execution_count": 1,
   "metadata": {},
   "outputs": [
    {
     "name": "stdout",
     "output_type": "stream",
     "text": [
      "18\n",
      "18\n"
     ]
    }
   ],
   "source": [
    "#suma liczb z listy po przez petle i przez rekurencje\n",
    "\n",
    "def suma_Petla(lista):\n",
    "    suma = 0\n",
    "    for x in lista:\n",
    "        suma += x\n",
    "    return suma\n",
    "\n",
    "#kazd funkcja rekurencyjna ma dwa przypadki: podstawowy i rekurencyjny\n",
    "\n",
    "def suma_Rekurencyjna(lista):\n",
    "    #przypadek podstawowy\n",
    "    if lista == []:\n",
    "        return 0\n",
    "    #przypadek rekurencyjny\n",
    "    else:\n",
    "        return lista[0] + suma_Rekurencyjna(lista[1:])\n",
    "\n",
    "lista = [3, 2, 4, 9]\n",
    "\n",
    "print(suma_Petla(lista))\n",
    "print(suma_Rekurencyjna(lista))\n"
   ]
  },
  {
   "cell_type": "code",
   "execution_count": 29,
   "metadata": {},
   "outputs": [
    {
     "name": "stdout",
     "output_type": "stream",
     "text": [
      "6\n",
      "6\n"
     ]
    }
   ],
   "source": [
    "#silnia \n",
    "\n",
    "def silnia_petla(x):\n",
    "    silnia = 1\n",
    "    for i in range(1, x+1):\n",
    "        silnia *= i\n",
    "    return silnia\n",
    "\n",
    "def silnia_Rekurencyjna(x):\n",
    "    #przypaek podstawowoy\n",
    "    if x <= 1:\n",
    "        return 1\n",
    "    else:\n",
    "        return x * silnia_Rekurencyjna(x-1)\n",
    "\n",
    "print(silnia_petla(3))\n",
    "print(silnia_Rekurencyjna(3))"
   ]
  },
  {
   "cell_type": "code",
   "execution_count": 35,
   "metadata": {},
   "outputs": [
    {
     "name": "stdout",
     "output_type": "stream",
     "text": [
      "2\n",
      "2\n"
     ]
    }
   ],
   "source": [
    "#ciag fibonnaciego\n",
    "#pierwszy = 0, drugi = 1, kazdy nastepny jest suma dwoch poprzednich\n",
    "\n",
    "def fibonacci_petla(x):\n",
    "    poprzedniapoprzednia_liczba = 0\n",
    "    poprzednia_liczba = 0\n",
    "    szukana_liczba = 1\n",
    "    for i in range(1, x):\n",
    "        poprzedniapoprzednia_liczba = poprzednia_liczba\n",
    "        poprzednia_liczba = szukana_liczba\n",
    "        szukana_liczba = poprzedniapoprzednia_liczba + poprzednia_liczba\n",
    "    return szukana_liczba\n",
    "\n",
    "\n",
    "def fibonacci_Rekurencyjnie(x):\n",
    "    if x == 0:\n",
    "        return 0\n",
    "    elif x == 1:\n",
    "        return 1\n",
    "    else:\n",
    "        return fibonacci_Rekurencyjnie(x-1) + fibonacci_Rekurencyjnie(x-2)\n",
    "        \n",
    "print(fibonacci_petla(3))\n",
    "print(fibonacci_Rekurencyjnie(3))"
   ]
  }
 ],
 "metadata": {
  "kernelspec": {
   "display_name": "Python 3.10.8 ('srodowisko_Python')",
   "language": "python",
   "name": "python3"
  },
  "language_info": {
   "codemirror_mode": {
    "name": "ipython",
    "version": 3
   },
   "file_extension": ".py",
   "mimetype": "text/x-python",
   "name": "python",
   "nbconvert_exporter": "python",
   "pygments_lexer": "ipython3",
   "version": "3.10.9"
  },
  "orig_nbformat": 4,
  "vscode": {
   "interpreter": {
    "hash": "942a664b54e2559c71888f992fa071b09a8d1d64eb5a0701cf262304bd7f014e"
   }
  }
 },
 "nbformat": 4,
 "nbformat_minor": 2
}
