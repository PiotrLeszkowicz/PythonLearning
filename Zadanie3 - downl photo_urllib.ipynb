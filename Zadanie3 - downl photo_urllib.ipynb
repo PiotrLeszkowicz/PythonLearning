{
 "cells": [
  {
   "cell_type": "code",
   "execution_count": 14,
   "metadata": {},
   "outputs": [
    {
     "name": "stdout",
     "output_type": "stream",
     "text": [
      "niepoprawny url\n"
     ]
    }
   ],
   "source": [
    "#pobierania zdjecia przy pomocy modulu urlib\n",
    "\n",
    "import  urllib.request\n",
    "\n",
    "def download_jpg(url, file_path, file_name):\n",
    "    full_path = file_path + file_name + \".jpg\"\n",
    "    urllib.request.urlretrieve(url, full_path)\n",
    "\n",
    "url = input(\"Enter img URL to download: \")\n",
    "file_name = input(\"Enter file name to save as: \")\n",
    "\n",
    "try:\n",
    "    download_jpg(url,\"./\", file_name)\n",
    "except ValueError:\n",
    "    print(\"niepoprawny url\")\n"
   ]
  }
 ],
 "metadata": {
  "kernelspec": {
   "display_name": "Python 3.10.8 ('srodowisko_Python')",
   "language": "python",
   "name": "python3"
  },
  "language_info": {
   "codemirror_mode": {
    "name": "ipython",
    "version": 3
   },
   "file_extension": ".py",
   "mimetype": "text/x-python",
   "name": "python",
   "nbconvert_exporter": "python",
   "pygments_lexer": "ipython3",
   "version": "3.10.8"
  },
  "orig_nbformat": 4,
  "vscode": {
   "interpreter": {
    "hash": "942a664b54e2559c71888f992fa071b09a8d1d64eb5a0701cf262304bd7f014e"
   }
  }
 },
 "nbformat": 4,
 "nbformat_minor": 2
}
