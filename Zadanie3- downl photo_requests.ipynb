{
 "cells": [
  {
   "cell_type": "code",
   "execution_count": 10,
   "metadata": {},
   "outputs": [],
   "source": [
    "import requests\n",
    "\n",
    "url_photo = input(\"enter image url: \")\n",
    "file_name = input(\"save image as: \")\n",
    "\n",
    "r = requests.get(url_photo)\n",
    "\n",
    "with open(file_name.jpg, \"wb\") as f:\n",
    "    f.write(r.content)\n",
    "\n"
   ]
  }
 ],
 "metadata": {
  "kernelspec": {
   "display_name": "Python 3.10.8 ('srodowisko_Python')",
   "language": "python",
   "name": "python3"
  },
  "language_info": {
   "codemirror_mode": {
    "name": "ipython",
    "version": 3
   },
   "file_extension": ".py",
   "mimetype": "text/x-python",
   "name": "python",
   "nbconvert_exporter": "python",
   "pygments_lexer": "ipython3",
   "version": "3.10.8"
  },
  "orig_nbformat": 4,
  "vscode": {
   "interpreter": {
    "hash": "942a664b54e2559c71888f992fa071b09a8d1d64eb5a0701cf262304bd7f014e"
   }
  }
 },
 "nbformat": 4,
 "nbformat_minor": 2
}
