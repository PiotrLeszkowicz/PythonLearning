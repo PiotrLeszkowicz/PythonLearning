{
 "cells": [
  {
   "cell_type": "code",
   "execution_count": null,
   "metadata": {},
   "outputs": [],
   "source": [
    "#Stworz liste zawierajaca 10 dowolnych liczn, a nastepnie przygotuj nowa liste zawierajaca wylacznie wartosci podzielne przez 4 i 6\n",
    "\n",
    "numbers = [10, 30, 55, 16, 18, 19, 24, 56, 89, 100]\n",
    "answers = []\n",
    "\n",
    "\n",
    "for number in numbers:\n",
    "    if number % 4 == 0 or number % 6 == 0:\n",
    "        answers.append(number)\n",
    "        \n",
    "print(answers)\n"
   ]
  }
 ],
 "metadata": {
  "kernelspec": {
   "display_name": "Python 3.10.8 ('srodowisko_Python')",
   "language": "python",
   "name": "python3"
  },
  "language_info": {
   "name": "python",
   "version": "3.10.8"
  },
  "orig_nbformat": 4,
  "vscode": {
   "interpreter": {
    "hash": "942a664b54e2559c71888f992fa071b09a8d1d64eb5a0701cf262304bd7f014e"
   }
  }
 },
 "nbformat": 4,
 "nbformat_minor": 2
}
