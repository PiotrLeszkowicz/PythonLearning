{
 "cells": [
  {
   "cell_type": "code",
   "execution_count": 7,
   "metadata": {},
   "outputs": [
    {
     "name": "stdout",
     "output_type": "stream",
     "text": [
      "!1Qqshfbsauiofbasniov is correct.\n"
     ]
    }
   ],
   "source": [
    "#at least 8 characters and max 20 characters\n",
    "#at least one uppercase letter: A-Z\n",
    "#at least one lowercase letter: a-z\n",
    "#at least one number: 0-9\n",
    "#should not contain white space: [ ]\n",
    "#at least one special characters: @?#$%^&+=*!\n",
    "\n",
    "\n",
    "import re\n",
    "\n",
    "password = input('enter password')\n",
    "\n",
    "if len(password)<8:\n",
    "    print('is not valid,password must be 8 characters long')\n",
    "elif not re.search('[A-Z]',password):\n",
    "    print('is not valid,password must contain at least one capital letter')\n",
    "elif not re.search('[a-z]',password):\n",
    "    print('is not valid,password must contain at least one lowercase letter')\n",
    "elif not re.search('[0-9]',password):\n",
    "    print('is not valid,password must contain at least one digit')\n",
    "elif re.search('\\s',password):\n",
    "    print('is not valid,password should not contain whitespace')\n",
    "elif not re.search('[@?#$%^&+=*!]',password):\n",
    "    print('is not valid,password must contain one special character')\n",
    "else:\n",
    "    print(f'{password} is correct.')"
   ]
  }
 ],
 "metadata": {
  "kernelspec": {
   "display_name": "Python 3.10.8 ('srodowisko_Python')",
   "language": "python",
   "name": "python3"
  },
  "language_info": {
   "codemirror_mode": {
    "name": "ipython",
    "version": 3
   },
   "file_extension": ".py",
   "mimetype": "text/x-python",
   "name": "python",
   "nbconvert_exporter": "python",
   "pygments_lexer": "ipython3",
   "version": "3.10.8"
  },
  "orig_nbformat": 4,
  "vscode": {
   "interpreter": {
    "hash": "942a664b54e2559c71888f992fa071b09a8d1d64eb5a0701cf262304bd7f014e"
   }
  }
 },
 "nbformat": 4,
 "nbformat_minor": 2
}
