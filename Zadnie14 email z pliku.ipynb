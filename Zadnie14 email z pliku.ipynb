{
 "cells": [
  {
   "cell_type": "code",
   "execution_count": 22,
   "metadata": {},
   "outputs": [
    {
     "name": "stdout",
     "output_type": "stream",
     "text": [
      "valid\n",
      "valid\n",
      "invalid\n",
      "valid\n",
      "invalid\n",
      "valid\n"
     ]
    }
   ],
   "source": [
    "import re\n",
    "\n",
    "path = 'C:/Users/Asgoi/python_nauka/Zadania/email.txt'\n",
    "\n",
    "with open(path, 'r') as fr:\n",
    "    for line in fr.readlines():\n",
    "        obj = re.search(r'[\\w+]+\\@[\\w.]+', line)\n",
    "        if obj:\n",
    "            print('valid')\n",
    "        else:\n",
    "            print('invalid')"
   ]
  }
 ],
 "metadata": {
  "kernelspec": {
   "display_name": "Python 3.10.8 ('srodowisko_Python')",
   "language": "python",
   "name": "python3"
  },
  "language_info": {
   "codemirror_mode": {
    "name": "ipython",
    "version": 3
   },
   "file_extension": ".py",
   "mimetype": "text/x-python",
   "name": "python",
   "nbconvert_exporter": "python",
   "pygments_lexer": "ipython3",
   "version": "3.10.8"
  },
  "orig_nbformat": 4,
  "vscode": {
   "interpreter": {
    "hash": "942a664b54e2559c71888f992fa071b09a8d1d64eb5a0701cf262304bd7f014e"
   }
  }
 },
 "nbformat": 4,
 "nbformat_minor": 2
}
