{
 "cells": [
  {
   "cell_type": "code",
   "execution_count": 4,
   "metadata": {},
   "outputs": [
    {
     "name": "stdout",
     "output_type": "stream",
     "text": [
      "['C:/txt/Albi.txt', 'C:/txt/buff.txt', 'C:/txt/cat.txt', 'C:/txt/kilka.txt', 'C:/txt/molder.txt', 'C:/txt/Skali.txt', 'C:/txt/word.docx']\n"
     ]
    }
   ],
   "source": [
    "# funkcja zwraca liste plików z danego folderu\n",
    "# 'C:/Users/Asgoi/Documents/'\n",
    "\n",
    "import os\n",
    "\n",
    "\n",
    "def list_files_of_dir(path):\n",
    "    files = []\n",
    "    my_documents = os.listdir(path)\n",
    "    \n",
    "    for document in my_documents:\n",
    "        if os.path.isfile(path+document):\n",
    "            files.append(path+document)\n",
    "    return files\n",
    "        \n",
    "print(list_files_of_dir('C:/txt/'))"
   ]
  },
  {
   "cell_type": "code",
   "execution_count": 5,
   "metadata": {},
   "outputs": [
    {
     "name": "stdout",
     "output_type": "stream",
     "text": [
      "['C:/txt/Albi.txt', 'C:/txt/buff.txt', 'C:/txt/cat.txt', 'C:/txt/kilka.txt', 'C:/txt/molder.txt', 'C:/txt/Skali.txt', 'C:/txt/word.docx']\n"
     ]
    }
   ],
   "source": [
    "files = list_files_of_dir('C:/txt/')\n",
    "print(files)"
   ]
  },
  {
   "cell_type": "code",
   "execution_count": 6,
   "metadata": {},
   "outputs": [
    {
     "name": "stdout",
     "output_type": "stream",
     "text": [
      "['C:/txt/molder.txt']\n"
     ]
    }
   ],
   "source": [
    "# funkcja wyszuka podanego slowa w plikach z danego folderu\n",
    "\n",
    "\n",
    "def search_element_in_file(word, files):\n",
    "    serched_element = []\n",
    "    \n",
    "    for file in files:\n",
    "        with open(file, 'r') as fr:\n",
    "            if word in fr.read():\n",
    "                serched_element.append(file)\n",
    "    return serched_element\n",
    "         \n",
    "print(search_element_in_file('molder', files))"
   ]
  },
  {
   "cell_type": "code",
   "execution_count": 7,
   "metadata": {},
   "outputs": [],
   "source": [
    "files = list_files_of_dir('C:/txt/')\n",
    "serched_element = search_element_in_file('molder', files)"
   ]
  },
  {
   "cell_type": "code",
   "execution_count": 8,
   "metadata": {},
   "outputs": [
    {
     "name": "stdout",
     "output_type": "stream",
     "text": [
      "['C:/txt/molder.txt']\n",
      "['C:/txt/Albi.txt', 'C:/txt/buff.txt', 'C:/txt/cat.txt', 'C:/txt/kilka.txt', 'C:/txt/molder.txt', 'C:/txt/Skali.txt', 'C:/txt/word.docx']\n"
     ]
    }
   ],
   "source": [
    "print(serched_element)\n",
    "\n",
    "print(files)"
   ]
  },
  {
   "cell_type": "code",
   "execution_count": 9,
   "metadata": {},
   "outputs": [],
   "source": [
    "# funkcja tworzy slownik tylko z plikow txt key-sciezka do pliku , wartosc-zawartosc pliku\n",
    "\n",
    "\n",
    "def interate_files_to_search(files):\n",
    "    file_content = {}\n",
    "\n",
    "\n",
    "    for key in files:\n",
    "        if key.endswith('.txt'):\n",
    "            with open(key, 'r') as fr:\n",
    "                value = fr.read()\n",
    "            file_content.update({key: value})\n",
    "    return file_content"
   ]
  },
  {
   "cell_type": "code",
   "execution_count": 10,
   "metadata": {},
   "outputs": [
    {
     "name": "stdout",
     "output_type": "stream",
     "text": [
      "{'C:/txt/Albi.txt': 'pies', 'C:/txt/buff.txt': 'buff', 'C:/txt/cat.txt': 'jeden', 'C:/txt/kilka.txt': 'siema tutaj Ola', 'C:/txt/molder.txt': 'molder', 'C:/txt/Skali.txt': 'skinner'}\n"
     ]
    }
   ],
   "source": [
    "file_content = interate_files_to_search(files)\n",
    "\n",
    "print(file_content)"
   ]
  }
 ],
 "metadata": {
  "kernelspec": {
   "display_name": "Python 3.10.8 ('srodowisko_Python')",
   "language": "python",
   "name": "python3"
  },
  "language_info": {
   "codemirror_mode": {
    "name": "ipython",
    "version": 3
   },
   "file_extension": ".py",
   "mimetype": "text/x-python",
   "name": "python",
   "nbconvert_exporter": "python",
   "pygments_lexer": "ipython3",
   "version": "3.10.9"
  },
  "orig_nbformat": 4,
  "vscode": {
   "interpreter": {
    "hash": "942a664b54e2559c71888f992fa071b09a8d1d64eb5a0701cf262304bd7f014e"
   }
  }
 },
 "nbformat": 4,
 "nbformat_minor": 2
}
